{
  "nbformat": 4,
  "nbformat_minor": 0,
  "metadata": {
    "colab": {
      "provenance": [],
      "authorship_tag": "ABX9TyMx7tU3eQcyRhuTwN7Wzd3i",
      "include_colab_link": true
    },
    "kernelspec": {
      "name": "python3",
      "display_name": "Python 3"
    },
    "language_info": {
      "name": "python"
    }
  },
  "cells": [
    {
      "cell_type": "markdown",
      "metadata": {
        "id": "view-in-github",
        "colab_type": "text"
      },
      "source": [
        "<a href=\"https://colab.research.google.com/github/tihunn/emotion_testing/blob/main/prediction_emotion.ipynb\" target=\"_parent\"><img src=\"https://colab.research.google.com/assets/colab-badge.svg\" alt=\"Open In Colab\"/></a>"
      ]
    },
    {
      "cell_type": "code",
      "execution_count": 4,
      "metadata": {
        "colab": {
          "base_uri": "https://localhost:8080/"
        },
        "id": "1bkzQgBtiyiq",
        "outputId": "090beb57-f8a4-41ff-c331-bd71aa736296"
      },
      "outputs": [
        {
          "output_type": "stream",
          "name": "stderr",
          "text": [
            "/usr/local/lib/python3.10/dist-packages/keras/src/saving/saving_lib.py:576: UserWarning: Skipping variable loading for optimizer 'rmsprop', because it has 28 variables whereas the saved optimizer has 54 variables. \n",
            "  saveable.load_own_variables(weights_store.get(inner_path))\n"
          ]
        },
        {
          "output_type": "stream",
          "name": "stdout",
          "text": [
            "\u001b[1m2/2\u001b[0m \u001b[32m━━━━━━━━━━━━━━━━━━━━\u001b[0m\u001b[37m\u001b[0m \u001b[1m1s\u001b[0m 303ms/step\n"
          ]
        },
        {
          "output_type": "execute_result",
          "data": {
            "text/plain": [
              "['отвращение 0 сек - 2 сек',\n",
              " 'отвращение 2 сек - 4 сек',\n",
              " 'отвращение 4 сек - 6 сек',\n",
              " 'отвращение 6 сек - 8 сек',\n",
              " 'отвращение 8 сек - 10 сек',\n",
              " 'отвращение 10 сек - 12 сек',\n",
              " 'отвращение 12 сек - 14 сек',\n",
              " 'отвращение 14 сек - 16 сек',\n",
              " 'отвращение 16 сек - 18 сек',\n",
              " 'отвращение 18 сек - 20 сек',\n",
              " 'отвращение 20 сек - 22 сек',\n",
              " 'отвращение 22 сек - 24 сек',\n",
              " 'отвращение 24 сек - 26 сек',\n",
              " 'отвращение 26 сек - 28 сек',\n",
              " 'отвращение 28 сек - 30 сек',\n",
              " 'отвращение 30 сек - 32 сек',\n",
              " 'отвращение 32 сек - 34 сек',\n",
              " 'отвращение 34 сек - 36 сек',\n",
              " 'отвращение 36 сек - 38 сек',\n",
              " 'отвращение 38 сек - 40 сек',\n",
              " 'отвращение 40 сек - 42 сек',\n",
              " 'отвращение 42 сек - 44 сек',\n",
              " 'отвращение 44 сек - 46 сек',\n",
              " 'отвращение 46 сек - 48 сек',\n",
              " 'отвращение 48 сек - 50 сек',\n",
              " 'отвращение 50 сек - 52 сек',\n",
              " 'отвращение 52 сек - 54 сек',\n",
              " 'отвращение 54 сек - 56 сек',\n",
              " 'отвращение 56 сек - 58 сек',\n",
              " 'отвращение 58 сек - 1 мин 0 сек',\n",
              " 'отвращение 1 мин 0 сек - 1 мин 2 сек',\n",
              " 'отвращение 1 мин 2 сек - 1 мин 4 сек',\n",
              " 'отвращение 1 мин 4 сек - 1 мин 6 сек',\n",
              " 'отвращение 1 мин 6 сек - 1 мин 8 сек',\n",
              " 'отвращение 1 мин 8 сек - 1 мин 10 сек']"
            ]
          },
          "metadata": {},
          "execution_count": 4
        }
      ],
      "source": [
        "import numpy as np\n",
        "import librosa\n",
        "from tensorflow.keras.models import load_model\n",
        "\n",
        "emotional_testing_model = load_model('emotional_testing.keras')\n",
        "CLASS_LIST = ['neutral', 'disgust', 'sad', 'happy', 'surprise', 'angry', 'fear']\n",
        "class_list_ru = ['нейтральный', 'отвращение', 'грустный', 'счастливый', 'удивление', 'гнев', 'страх']\n",
        "N_FFT = 8192                              # Размер окна преобразования Фурье для расчета спектра\n",
        "HOP_LENGTH = 512                          # Объем данных для расчета одного набора признаков\n",
        "\n",
        "\n",
        "# Функция параметризации аудио\n",
        "def get_features(y,                     # волновое представление сигнала\n",
        "                 sr,                    # частота дискретизации сигнала y\n",
        "                 n_fft=N_FFT,           # размер скользящего окна БПФ\n",
        "                 hop_length=HOP_LENGTH  # шаг скользящего окна БПФ\n",
        "                 ):\n",
        "    chroma_stft = librosa.feature.chroma_stft(y=y, sr=sr, n_fft=n_fft, hop_length=hop_length)     # Хромаграмма\n",
        "    mfcc = librosa.feature.mfcc(y=y, sr=sr, n_fft=n_fft, hop_length=hop_length)                   # Мел-кепстральные коэффициенты\n",
        "    rmse = librosa.feature.rms(y=y, hop_length=hop_length)                                        # Среднеквадратическая амплитуда\n",
        "    spec_cent = librosa.feature.spectral_centroid(y=y, sr=sr, n_fft=n_fft, hop_length=hop_length) # Спектральный центроид\n",
        "    spec_bw = librosa.feature.spectral_bandwidth(y=y, sr=sr, n_fft=n_fft, hop_length=hop_length)  # Ширина полосы частот\n",
        "    rolloff = librosa.feature.spectral_rolloff(y=y, sr=sr, n_fft=n_fft, hop_length=hop_length)    # Спектральный спад частоты\n",
        "    zcr = librosa.feature.zero_crossing_rate(y, hop_length=hop_length)                            # Пересечения нуля\n",
        "\n",
        "    # Сборка признаков в общий список:\n",
        "    features = {'rmse': rmse,\n",
        "                'spct': spec_cent,\n",
        "                'spbw': spec_bw,\n",
        "                'roff': rolloff,\n",
        "                'zcr' : zcr,\n",
        "                'mfcc': mfcc,\n",
        "                'stft': chroma_stft}\n",
        "\n",
        "    return features\n",
        "\n",
        "import numpy as np\n",
        "import librosa\n",
        "\n",
        "def prepare_prediction_batch(audio_file_path, duration_sec=2):\n",
        "    y, sr = librosa.load(audio_file_path, mono=True)\n",
        "    total_duration = librosa.get_duration(y=y, sr=sr)\n",
        "\n",
        "    # Подготовка списка для хранения каждого 2-секундного отрезка\n",
        "    segments = []\n",
        "\n",
        "    # Разбиваем аудио на отрезки по `duration_sec` секунд\n",
        "    for start in range(0, int(total_duration), duration_sec):\n",
        "        end = start + duration_sec\n",
        "        segment = y[start * sr : end * sr]\n",
        "\n",
        "        # Если последний отрезок короче 1 секунды и не единственный, пропускаем его\n",
        "        if len(segment) < sr and start > 0:\n",
        "            continue\n",
        "\n",
        "        # Если единственный отрезок короче 2 секунд, дополняем его до нужной длины\n",
        "        if len(segment) < duration_sec * sr:\n",
        "            repeats = int(np.ceil((duration_sec * sr) / len(segment)))\n",
        "            segment = np.tile(segment, repeats)[:duration_sec * sr]\n",
        "\n",
        "        # Получаем признаки для сегмента и добавляем в batch\n",
        "        features = get_features(segment, sr)\n",
        "        feature_vector = np.hstack([f.mean(axis=1) for f in features.values()])  # Конкатенируем признаки\n",
        "        segments.append(feature_vector)\n",
        "\n",
        "    # Возвращаем пакет признаков для всех сегментов в формате numpy массива\n",
        "    return np.array(segments)\n",
        "\n",
        "def format_time(seconds):\n",
        "    \"\"\"Форматирование времени в минуты и секунды.\"\"\"\n",
        "    if seconds < 60:\n",
        "        return f\"{seconds} сек\"\n",
        "    minutes = seconds // 60\n",
        "    seconds = seconds % 60\n",
        "    return f\"{minutes} мин {seconds} сек\"\n",
        "\n",
        "def predict_emotion(prediction_batch, model, class_list, return_list=False):\n",
        "    # Предсказания модели по каждому отрезку\n",
        "    predictions = model.predict(prediction_batch)\n",
        "\n",
        "    if return_list:\n",
        "        prediction_with_times = []\n",
        "        for i, prediction in enumerate(predictions):\n",
        "            # Получаем название эмоции с максимальной вероятностью\n",
        "            emotion = class_list[np.argmax(prediction)]\n",
        "\n",
        "            # Вычисляем временной промежуток для текущего отрезка\n",
        "            start_time = i * 2\n",
        "            end_time = start_time + 2\n",
        "            time_interval = f\"{format_time(start_time)} - {format_time(end_time)}\"\n",
        "\n",
        "            # Добавляем в список результат в формате \"название эмоции X-Y сек\"\n",
        "            prediction_with_times.append(f\"{emotion} {time_interval}\")\n",
        "\n",
        "        return prediction_with_times\n",
        "\n",
        "    # Если требуется одно итоговое предсказание\n",
        "    final_prediction = np.sum(predictions, axis=0)\n",
        "    return class_list[np.argmax(final_prediction)]\n",
        "\n",
        "\n",
        "predict_emotion(prepare_prediction_batch('/content/audio_2024-11-02_11-08-56.ogg'), \\\n",
        "                emotional_testing_model, class_list=class_list_ru, return_list=True)"
      ]
    }
  ]
}